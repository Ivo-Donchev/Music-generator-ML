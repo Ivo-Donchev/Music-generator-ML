{
 "cells": [
  {
   "cell_type": "code",
   "execution_count": 1,
   "metadata": {},
   "outputs": [],
   "source": [
    "import numpy as np\n",
    "import matplotlib.pyplot as plt\n",
    "import midi\n",
    "from tqdm import tqdm\n",
    "import glob\n",
    "import tensorflow as tf\n",
    "from tensorflow.python.ops import control_flow_ops\n",
    "\n",
    "%matplotlib inline"
   ]
  },
  {
   "cell_type": "code",
   "execution_count": 2,
   "metadata": {},
   "outputs": [],
   "source": [
    "lowerBound = 24\n",
    "upperBound = 102\n",
    "bound_diff = upperBound-lowerBound\n",
    "note_range = bound_diff\n",
    "\n",
    "num_timesteps = 15 #This is the number of timesteps that we will create at a time\n",
    "n_visible = 2*note_range*num_timesteps #This is the size of the visible layer. \n",
    "n_hidden = 50 #This is the size of the hidden layer\n",
    "\n",
    "batch_size = 100 #The number of training examples that we are going to send through the RBM at a time. \n",
    "lr = tf.constant(0.005, tf.float32) #The learning rate of our model\n",
    "\n",
    "x  = tf.placeholder(tf.float32, [None, n_visible], name=\"x\") #The placeholder variable that holds our data\n",
    "W  = tf.Variable(tf.random_normal([n_visible, n_hidden], 0.01), name=\"W\") #The weight matrix that stores the edge weights\n",
    "bh = tf.Variable(tf.zeros([1, n_hidden],  tf.float32, name=\"bh\")) #The bias vector for the hidden layer\n",
    "bv = tf.Variable(tf.zeros([1, n_visible],  tf.float32, name=\"bv\")) #The bias vector for the visible layer"
   ]
  },
  {
   "cell_type": "code",
   "execution_count": null,
   "metadata": {},
   "outputs": [],
   "source": []
  },
  {
   "cell_type": "code",
   "execution_count": 3,
   "metadata": {},
   "outputs": [],
   "source": [
    "\n",
    "\n",
    "def midiToNoteStateMatrix(midifile, squash=True, bound_diff=bound_diff):\n",
    "    pattern = midi.read_midifile(midifile)\n",
    "\n",
    "    timeleft = [track[0].tick for track in pattern]\n",
    "\n",
    "    posns = [0 for track in pattern]\n",
    "\n",
    "    statematrix = []\n",
    "    time = 0\n",
    "\n",
    "    state = [[0,0] for x in range(bound_diff)]\n",
    "    statematrix.append(state)\n",
    "    condition = True\n",
    "    while condition:\n",
    "        if time % (pattern.resolution / 4) == (pattern.resolution / 8):\n",
    "            # Crossed a note boundary. Create a new state, defaulting to holding notes\n",
    "            oldstate = state\n",
    "            state = [[oldstate[x][0],0] for x in range(bound_diff)]\n",
    "            statematrix.append(state)\n",
    "        for i in range(len(timeleft)): #For each track\n",
    "            if not condition:\n",
    "                break\n",
    "            while timeleft[i] == 0:\n",
    "                track = pattern[i]\n",
    "                pos = posns[i]\n",
    "\n",
    "                evt = track[pos]\n",
    "                if isinstance(evt, midi.NoteEvent):\n",
    "                    if (evt.pitch < lowerBound) or (evt.pitch >= upperBound):\n",
    "                        pass\n",
    "                        # print \"Note {} at time {} out of bounds (ignoring)\".format(evt.pitch, time)\n",
    "                    else:\n",
    "                        if isinstance(evt, midi.NoteOffEvent) or evt.velocity == 0:\n",
    "                            state[evt.pitch-lowerBound] = [0, 0]\n",
    "                        else:\n",
    "                            state[evt.pitch-lowerBound] = [1, 1]\n",
    "                elif isinstance(evt, midi.TimeSignatureEvent):\n",
    "                    if evt.numerator not in (2, 4):\n",
    "                        # We don't want to worry about non-4 time signatures. Bail early!\n",
    "                        # print \"Found time signature event {}. Bailing!\".format(evt)\n",
    "                        out =  statematrix\n",
    "                        condition = False\n",
    "                        break\n",
    "                try:\n",
    "                    timeleft[i] = track[pos + 1].tick\n",
    "                    posns[i] += 1\n",
    "                except IndexError:\n",
    "                    timeleft[i] = None\n",
    "\n",
    "            if timeleft[i] is not None:\n",
    "                timeleft[i] -= 1\n",
    "\n",
    "        if all(t is None for t in timeleft):\n",
    "            break\n",
    "\n",
    "        time += 1\n",
    "\n",
    "    S = np.array(statematrix)\n",
    "    statematrix = np.hstack((S[:, :, 0], S[:, :, 1]))\n",
    "    statematrix = np.asarray(statematrix).tolist()\n",
    "    return statematrix\n",
    "\n",
    "def noteStateMatrixToMidi(statematrix, name=\"example\", bound_diff=bound_diff):\n",
    "    statematrix = np.array(statematrix)\n",
    "    if not len(statematrix.shape) == 3:\n",
    "        statematrix = np.dstack((statematrix[:, :bound_diff], statematrix[:, bound_diff:]))\n",
    "    statematrix = np.asarray(statematrix)\n",
    "    pattern = midi.Pattern()\n",
    "    track = midi.Track()\n",
    "    pattern.append(track)\n",
    "    \n",
    "    tickscale = 55\n",
    "    \n",
    "    lastcmdtime = 0\n",
    "    prevstate = [[0,0] for x in range(bound_diff)]\n",
    "    for time, state in enumerate(statematrix + [prevstate[:]]):  \n",
    "        offNotes = []\n",
    "        onNotes = []\n",
    "        for i in range(bound_diff):\n",
    "            n = state[i]\n",
    "            p = prevstate[i]\n",
    "            if p[0] == 1:\n",
    "                if n[0] == 0:\n",
    "                    offNotes.append(i)\n",
    "                elif n[1] == 1:\n",
    "                    offNotes.append(i)\n",
    "                    onNotes.append(i)\n",
    "            elif n[0] == 1:\n",
    "                onNotes.append(i)\n",
    "        for note in offNotes:\n",
    "            track.append(midi.NoteOffEvent(tick=(time-lastcmdtime)*tickscale, pitch=note+lowerBound))\n",
    "            lastcmdtime = time\n",
    "        for note in onNotes:\n",
    "            track.append(midi.NoteOnEvent(tick=(time-lastcmdtime)*tickscale, velocity=40, pitch=note+lowerBound))\n",
    "            lastcmdtime = time\n",
    "            \n",
    "        prevstate = state\n",
    "    \n",
    "    eot = midi.EndOfTrackEvent(tick=1)\n",
    "    track.append(eot)\n",
    "\n",
    "    midi.write_midifile(\"{}.mid\".format(name), pattern)\n",
    "\n",
    "def get_songs():\n",
    "    files = glob.glob('../dataset/*.mid')\n",
    "    songs = []\n",
    "    for f in tqdm(files):\n",
    "        try:\n",
    "            song = np.array(midiToNoteStateMatrix(f))\n",
    "            if np.array(song).shape[0] > 50:\n",
    "                songs.append(song)\n",
    "        except Exception as e:\n",
    "            raise e           \n",
    "    return songs"
   ]
  },
  {
   "cell_type": "markdown",
   "metadata": {},
   "source": []
  },
  {
   "cell_type": "code",
   "execution_count": 8,
   "metadata": {},
   "outputs": [
    {
     "name": "stderr",
     "output_type": "stream",
     "text": [
      "100%|██████████| 2/2 [00:00<00:00,  2.07it/s]\n",
      "  0%|          | 0/100 [00:00<?, ?it/s]"
     ]
    },
    {
     "name": "stdout",
     "output_type": "stream",
     "text": [
      "songs count 2\n",
      "(93, 2340)\n",
      "(93, 2340)\n",
      "(101, 2340)\n",
      "(100, 2340)\n",
      "(93, 2340)\n",
      "(93, 2340)\n",
      "(101, 2340)\n",
      "(100, 2340)\n"
     ]
    },
    {
     "name": "stderr",
     "output_type": "stream",
     "text": [
      "  6%|▌         | 6/100 [00:00<00:03, 24.49it/s]"
     ]
    },
    {
     "name": "stdout",
     "output_type": "stream",
     "text": [
      "(93, 2340)\n",
      "(93, 2340)\n",
      "(101, 2340)\n",
      "(100, 2340)\n",
      "(93, 2340)\n",
      "(93, 2340)\n",
      "(101, 2340)\n",
      "(100, 2340)\n",
      "(93, 2340)\n",
      "(93, 2340)\n",
      "(101, 2340)\n",
      "(100, 2340)\n",
      "(93, 2340)\n",
      "(93, 2340)\n",
      "(101, 2340)\n",
      "(100, 2340)\n",
      "(93, 2340)\n",
      "(93, 2340)\n",
      "(101, 2340)\n",
      "(100, 2340)\n",
      "(93, 2340)\n",
      "(93, 2340)\n"
     ]
    },
    {
     "name": "stderr",
     "output_type": "stream",
     "text": [
      " 12%|█▏        | 12/100 [00:00<00:03, 24.19it/s]"
     ]
    },
    {
     "name": "stdout",
     "output_type": "stream",
     "text": [
      "(101, 2340)\n",
      "(100, 2340)\n",
      "(93, 2340)\n",
      "(93, 2340)\n",
      "(101, 2340)\n",
      "(100, 2340)\n",
      "(93, 2340)\n",
      "(93, 2340)\n",
      "(101, 2340)\n",
      "(100, 2340)\n",
      "(93, 2340)\n",
      "(93, 2340)\n",
      "(101, 2340)\n",
      "(100, 2340)\n",
      "(93, 2340)\n",
      "(93, 2340)\n",
      "(101, 2340)\n",
      "(100, 2340)\n"
     ]
    },
    {
     "name": "stderr",
     "output_type": "stream",
     "text": [
      "\r",
      " 14%|█▍        | 14/100 [00:00<00:03, 22.55it/s]"
     ]
    },
    {
     "name": "stdout",
     "output_type": "stream",
     "text": [
      "(93, 2340)\n",
      "(93, 2340)\n",
      "(101, 2340)\n",
      "(100, 2340)\n",
      "(93, 2340)\n",
      "(93, 2340)\n",
      "(101, 2340)\n",
      "(100, 2340)\n",
      "(93, 2340)\n",
      "(93, 2340)\n",
      "(101, 2340)\n",
      "(100, 2340)\n",
      "(93, 2340)\n",
      "(93, 2340)\n"
     ]
    },
    {
     "name": "stderr",
     "output_type": "stream",
     "text": [
      " 20%|██        | 20/100 [00:00<00:03, 23.13it/s]"
     ]
    },
    {
     "name": "stdout",
     "output_type": "stream",
     "text": [
      "(101, 2340)\n",
      "(100, 2340)\n",
      "(93, 2340)\n",
      "(93, 2340)\n",
      "(101, 2340)\n",
      "(100, 2340)\n",
      "(93, 2340)\n",
      "(93, 2340)\n",
      "(101, 2340)\n",
      "(100, 2340)\n",
      "(93, 2340)\n",
      "(93, 2340)\n",
      "(101, 2340)\n",
      "(100, 2340)\n",
      "(93, 2340)\n",
      "(93, 2340)\n",
      "(101, 2340)\n",
      "(100, 2340)\n",
      "(93, 2340)\n",
      "(93, 2340)\n",
      "(101, 2340)\n",
      "(100, 2340)\n"
     ]
    },
    {
     "name": "stderr",
     "output_type": "stream",
     "text": [
      "\r",
      " 23%|██▎       | 23/100 [00:01<00:03, 22.97it/s]"
     ]
    },
    {
     "name": "stdout",
     "output_type": "stream",
     "text": [
      "(93, 2340)\n",
      "(93, 2340)\n",
      "(101, 2340)\n",
      "(100, 2340)\n",
      "(93, 2340)\n",
      "(93, 2340)\n",
      "(101, 2340)\n",
      "(100, 2340)\n",
      "(93, 2340)\n",
      "(93, 2340)\n",
      "(101, 2340)\n",
      "(100, 2340)\n",
      "(93, 2340)\n",
      "(93, 2340)\n",
      "(101, 2340)\n",
      "(100, 2340)\n"
     ]
    },
    {
     "name": "stderr",
     "output_type": "stream",
     "text": [
      " 29%|██▉       | 29/100 [00:01<00:03, 22.31it/s]"
     ]
    },
    {
     "name": "stdout",
     "output_type": "stream",
     "text": [
      "(93, 2340)\n",
      "(93, 2340)\n",
      "(101, 2340)\n",
      "(100, 2340)\n",
      "(93, 2340)\n",
      "(93, 2340)\n",
      "(101, 2340)\n",
      "(100, 2340)\n",
      "(93, 2340)\n",
      "(93, 2340)\n",
      "(101, 2340)\n",
      "(100, 2340)\n",
      "(93, 2340)\n",
      "(93, 2340)\n",
      "(101, 2340)\n",
      "(100, 2340)\n",
      "(93, 2340)\n",
      "(93, 2340)\n",
      "(101, 2340)\n",
      "(100, 2340)\n"
     ]
    },
    {
     "name": "stderr",
     "output_type": "stream",
     "text": [
      "\r",
      " 32%|███▏      | 32/100 [00:01<00:03, 21.81it/s]"
     ]
    },
    {
     "name": "stdout",
     "output_type": "stream",
     "text": [
      "(93, 2340)\n",
      "(93, 2340)\n",
      "(101, 2340)\n",
      "(100, 2340)\n",
      "(93, 2340)\n",
      "(93, 2340)\n",
      "(101, 2340)\n",
      "(100, 2340)\n",
      "(93, 2340)\n",
      "(93, 2340)\n",
      "(101, 2340)\n",
      "(100, 2340)\n"
     ]
    },
    {
     "name": "stderr",
     "output_type": "stream",
     "text": [
      "\r",
      " 35%|███▌      | 35/100 [00:01<00:03, 20.18it/s]"
     ]
    },
    {
     "name": "stdout",
     "output_type": "stream",
     "text": [
      "(93, 2340)\n",
      "(93, 2340)\n",
      "(101, 2340)\n",
      "(100, 2340)\n",
      "(93, 2340)\n",
      "(93, 2340)\n",
      "(101, 2340)\n",
      "(100, 2340)\n",
      "(93, 2340)\n",
      "(93, 2340)\n"
     ]
    },
    {
     "name": "stderr",
     "output_type": "stream",
     "text": [
      "\r",
      " 37%|███▋      | 37/100 [00:01<00:03, 19.52it/s]"
     ]
    },
    {
     "name": "stdout",
     "output_type": "stream",
     "text": [
      "(101, 2340)\n",
      "(100, 2340)\n",
      "(93, 2340)\n",
      "(93, 2340)\n",
      "(101, 2340)\n",
      "(100, 2340)\n",
      "(93, 2340)\n",
      "(93, 2340)\n",
      "(101, 2340)\n",
      "(100, 2340)\n",
      "(93, 2340)\n",
      "(93, 2340)\n",
      "(101, 2340)\n",
      "(100, 2340)\n"
     ]
    },
    {
     "name": "stderr",
     "output_type": "stream",
     "text": [
      " 41%|████      | 41/100 [00:02<00:03, 19.21it/s]"
     ]
    },
    {
     "name": "stdout",
     "output_type": "stream",
     "text": [
      "(93, 2340)\n",
      "(93, 2340)\n",
      "(101, 2340)\n",
      "(100, 2340)\n",
      "(93, 2340)\n",
      "(93, 2340)\n",
      "(101, 2340)\n",
      "(100, 2340)\n",
      "(93, 2340)\n",
      "(93, 2340)\n",
      "(101, 2340)\n",
      "(100, 2340)\n",
      "(93, 2340)\n",
      "(93, 2340)\n"
     ]
    },
    {
     "name": "stderr",
     "output_type": "stream",
     "text": [
      " 45%|████▌     | 45/100 [00:02<00:02, 18.41it/s]"
     ]
    },
    {
     "name": "stdout",
     "output_type": "stream",
     "text": [
      "(101, 2340)\n",
      "(100, 2340)\n",
      "(93, 2340)\n",
      "(93, 2340)\n",
      "(101, 2340)\n",
      "(100, 2340)\n",
      "(93, 2340)\n",
      "(93, 2340)\n",
      "(101, 2340)\n",
      "(100, 2340)\n",
      "(93, 2340)\n",
      "(93, 2340)\n"
     ]
    },
    {
     "name": "stderr",
     "output_type": "stream",
     "text": [
      "\r",
      " 47%|████▋     | 47/100 [00:02<00:02, 18.21it/s]"
     ]
    },
    {
     "name": "stdout",
     "output_type": "stream",
     "text": [
      "(101, 2340)\n",
      "(100, 2340)\n",
      "(93, 2340)\n",
      "(93, 2340)\n",
      "(101, 2340)\n",
      "(100, 2340)\n",
      "(93, 2340)\n",
      "(93, 2340)\n",
      "(101, 2340)\n",
      "(100, 2340)\n",
      "(93, 2340)\n",
      "(93, 2340)\n"
     ]
    },
    {
     "name": "stderr",
     "output_type": "stream",
     "text": [
      "\r",
      " 49%|████▉     | 49/100 [00:02<00:02, 17.95it/s]"
     ]
    },
    {
     "name": "stdout",
     "output_type": "stream",
     "text": [
      "(101, 2340)\n",
      "(100, 2340)\n",
      "(93, 2340)\n",
      "(93, 2340)\n",
      "(101, 2340)\n",
      "(100, 2340)\n",
      "(93, 2340)\n",
      "(93, 2340)\n",
      "(101, 2340)\n",
      "(100, 2340)\n"
     ]
    },
    {
     "name": "stderr",
     "output_type": "stream",
     "text": [
      " 53%|█████▎    | 53/100 [00:03<00:02, 17.21it/s]"
     ]
    },
    {
     "name": "stdout",
     "output_type": "stream",
     "text": [
      "(93, 2340)\n",
      "(93, 2340)\n",
      "(101, 2340)\n",
      "(100, 2340)\n",
      "(93, 2340)\n",
      "(93, 2340)\n",
      "(101, 2340)\n",
      "(100, 2340)\n",
      "(93, 2340)\n",
      "(93, 2340)\n",
      "(101, 2340)\n",
      "(100, 2340)\n",
      "(93, 2340)\n",
      "(93, 2340)\n"
     ]
    },
    {
     "name": "stderr",
     "output_type": "stream",
     "text": [
      " 57%|█████▋    | 57/100 [00:03<00:02, 17.00it/s]"
     ]
    },
    {
     "name": "stdout",
     "output_type": "stream",
     "text": [
      "(101, 2340)\n",
      "(100, 2340)\n",
      "(93, 2340)\n",
      "(93, 2340)\n",
      "(101, 2340)\n",
      "(100, 2340)\n",
      "(93, 2340)\n",
      "(93, 2340)\n",
      "(101, 2340)\n",
      "(100, 2340)\n",
      "(93, 2340)\n",
      "(93, 2340)\n"
     ]
    },
    {
     "name": "stderr",
     "output_type": "stream",
     "text": [
      "\r",
      " 60%|██████    | 60/100 [00:03<00:02, 17.26it/s]"
     ]
    },
    {
     "name": "stdout",
     "output_type": "stream",
     "text": [
      "(101, 2340)\n",
      "(100, 2340)\n",
      "(93, 2340)\n",
      "(93, 2340)\n",
      "(101, 2340)\n",
      "(100, 2340)\n",
      "(93, 2340)\n",
      "(93, 2340)\n",
      "(101, 2340)\n",
      "(100, 2340)\n",
      "(93, 2340)\n",
      "(93, 2340)\n",
      "(101, 2340)\n",
      "(100, 2340)\n",
      "(93, 2340)\n",
      "(93, 2340)\n",
      "(101, 2340)\n",
      "(100, 2340)\n",
      "(93, 2340)\n",
      "(93, 2340)\n",
      "(101, 2340)\n",
      "(100, 2340)\n",
      "(93, 2340)\n",
      "(93, 2340)\n",
      "(101, 2340)\n",
      "(100, 2340)\n"
     ]
    },
    {
     "name": "stderr",
     "output_type": "stream",
     "text": [
      " 67%|██████▋   | 67/100 [00:03<00:01, 17.96it/s]"
     ]
    },
    {
     "name": "stdout",
     "output_type": "stream",
     "text": [
      "(93, 2340)\n",
      "(93, 2340)\n",
      "(101, 2340)\n",
      "(100, 2340)\n",
      "(93, 2340)\n",
      "(93, 2340)\n",
      "(101, 2340)\n",
      "(100, 2340)\n",
      "(93, 2340)\n",
      "(93, 2340)\n",
      "(101, 2340)\n",
      "(100, 2340)\n",
      "(93, 2340)\n",
      "(93, 2340)\n",
      "(101, 2340)\n",
      "(100, 2340)\n",
      "(93, 2340)\n",
      "(93, 2340)\n",
      "(101, 2340)\n",
      "(100, 2340)\n",
      "(93, 2340)\n",
      "(93, 2340)\n",
      "(101, 2340)\n",
      "(100, 2340)\n"
     ]
    },
    {
     "name": "stderr",
     "output_type": "stream",
     "text": [
      " 74%|███████▍  | 74/100 [00:03<00:01, 18.62it/s]"
     ]
    },
    {
     "name": "stdout",
     "output_type": "stream",
     "text": [
      "(93, 2340)\n",
      "(93, 2340)\n",
      "(101, 2340)\n",
      "(100, 2340)\n",
      "(93, 2340)\n",
      "(93, 2340)\n",
      "(101, 2340)\n",
      "(100, 2340)\n",
      "(93, 2340)\n",
      "(93, 2340)\n",
      "(101, 2340)\n",
      "(100, 2340)\n",
      "(93, 2340)\n",
      "(93, 2340)\n",
      "(101, 2340)\n",
      "(100, 2340)\n",
      "(93, 2340)\n",
      "(93, 2340)\n",
      "(101, 2340)\n",
      "(100, 2340)\n"
     ]
    },
    {
     "name": "stderr",
     "output_type": "stream",
     "text": [
      "\r",
      " 77%|███████▋  | 77/100 [00:04<00:01, 18.66it/s]"
     ]
    },
    {
     "name": "stdout",
     "output_type": "stream",
     "text": [
      "(93, 2340)\n",
      "(93, 2340)\n",
      "(101, 2340)\n",
      "(100, 2340)\n",
      "(93, 2340)\n",
      "(93, 2340)\n",
      "(101, 2340)\n",
      "(100, 2340)\n",
      "(93, 2340)\n",
      "(93, 2340)\n",
      "(101, 2340)\n",
      "(100, 2340)\n",
      "(93, 2340)\n",
      "(93, 2340)\n",
      "(101, 2340)\n",
      "(100, 2340)\n",
      "(93, 2340)\n",
      "(93, 2340)\n"
     ]
    },
    {
     "name": "stderr",
     "output_type": "stream",
     "text": [
      " 83%|████████▎ | 83/100 [00:04<00:00, 18.95it/s]"
     ]
    },
    {
     "name": "stdout",
     "output_type": "stream",
     "text": [
      "(101, 2340)\n",
      "(100, 2340)\n",
      "(93, 2340)\n",
      "(93, 2340)\n",
      "(101, 2340)\n",
      "(100, 2340)\n",
      "(93, 2340)\n",
      "(93, 2340)\n",
      "(101, 2340)\n",
      "(100, 2340)\n",
      "(93, 2340)\n",
      "(93, 2340)\n",
      "(101, 2340)\n",
      "(100, 2340)\n",
      "(93, 2340)\n",
      "(93, 2340)\n",
      "(101, 2340)\n",
      "(100, 2340)\n",
      "(93, 2340)\n",
      "(93, 2340)\n"
     ]
    },
    {
     "name": "stderr",
     "output_type": "stream",
     "text": [
      " 90%|█████████ | 90/100 [00:04<00:00, 19.43it/s]"
     ]
    },
    {
     "name": "stdout",
     "output_type": "stream",
     "text": [
      "(101, 2340)\n",
      "(100, 2340)\n",
      "(93, 2340)\n",
      "(93, 2340)\n",
      "(101, 2340)\n",
      "(100, 2340)\n",
      "(93, 2340)\n",
      "(93, 2340)\n",
      "(101, 2340)\n",
      "(100, 2340)\n",
      "(93, 2340)\n",
      "(93, 2340)\n",
      "(101, 2340)\n",
      "(100, 2340)\n",
      "(93, 2340)\n",
      "(93, 2340)\n",
      "(101, 2340)\n",
      "(100, 2340)\n",
      "(93, 2340)\n",
      "(93, 2340)\n",
      "(101, 2340)\n",
      "(100, 2340)\n",
      "(93, 2340)\n",
      "(93, 2340)\n",
      "(101, 2340)\n",
      "(100, 2340)\n",
      "(93, 2340)\n",
      "(93, 2340)\n"
     ]
    },
    {
     "name": "stderr",
     "output_type": "stream",
     "text": [
      "\r",
      " 94%|█████████▍| 94/100 [00:04<00:00, 19.77it/s]"
     ]
    },
    {
     "name": "stdout",
     "output_type": "stream",
     "text": [
      "(101, 2340)\n",
      "(100, 2340)\n",
      "(93, 2340)\n",
      "(93, 2340)\n",
      "(101, 2340)\n",
      "(100, 2340)\n",
      "(93, 2340)\n",
      "(93, 2340)\n",
      "(101, 2340)\n",
      "(100, 2340)\n",
      "(93, 2340)\n",
      "(93, 2340)\n",
      "(101, 2340)\n",
      "(100, 2340)\n",
      "(93, 2340)\n",
      "(93, 2340)\n",
      "(101, 2340)\n",
      "(100, 2340)\n",
      "(93, 2340)\n",
      "(93, 2340)\n",
      "(101, 2340)\n",
      "(100, 2340)\n"
     ]
    },
    {
     "name": "stderr",
     "output_type": "stream",
     "text": [
      "100%|██████████| 100/100 [00:04<00:00, 20.03it/s]\n"
     ]
    },
    {
     "name": "stdout",
     "output_type": "stream",
     "text": [
      "(93, 2340)\n",
      "(93, 2340)\n",
      "(101, 2340)\n",
      "(100, 2340)\n",
      "(93, 2340)\n",
      "(93, 2340)\n",
      "(101, 2340)\n",
      "(100, 2340)\n",
      "(93, 2340)\n",
      "(93, 2340)\n",
      "(101, 2340)\n",
      "(100, 2340)\n",
      "epoch: 100\n",
      "time:  0:00:05.025480\n",
      "OUTPUT: \n",
      "(10, 2340)\n",
      "(2340,)\n"
     ]
    }
   ],
   "source": [
    "def sample(probs):\n",
    "    return tf.floor(probs + tf.random_uniform(tf.shape(probs), 0, 1))\n",
    "\n",
    "\n",
    "def gibbs_step(count, k, xk):\n",
    "    probs = tf.sigmoid(tf.matmul(xk, W) + bh)\n",
    "    hk = sample(probs)\n",
    "\n",
    "    xk = sample(tf.sigmoid(tf.matmul(hk, tf.transpose(W)) + bv))\n",
    "    return count+1, k, xk\n",
    "\n",
    "\n",
    "def generate_x_sample(k):\n",
    "    ct = tf.constant(0) #counter\n",
    "    [_, _, x_sample] = control_flow_ops.while_loop(\n",
    "        lambda count,\n",
    "        num_iter,\n",
    "        *args: count < num_iter,\n",
    "        gibbs_step,\n",
    "        [ct, tf.constant(k), x],\n",
    "        parallel_iterations=10,\n",
    "        back_prop=False)\n",
    "\n",
    "    x_sample = tf.stop_gradient(x_sample) \n",
    "    return x_sample\n",
    "\n",
    "num_epochs = 100\n",
    "\n",
    "def generate_rnn():\n",
    "    #TODO: Revisit this\n",
    "    x_sample = generate_x_sample(1) \n",
    "    h = sample(tf.sigmoid(tf.matmul(x, W) + bh)) \n",
    "    h_sample = sample(tf.sigmoid(tf.matmul(x_sample, W) + bh)) \n",
    "\n",
    "    size_bt = tf.cast(tf.shape(x)[0], tf.float32)\n",
    "    W_adder  = tf.multiply(lr/size_bt, tf.subtract(tf.matmul(tf.transpose(x), h), tf.matmul(tf.transpose(x_sample), h_sample)))\n",
    "    bv_adder = tf.multiply(lr/size_bt, tf.reduce_sum(tf.subtract(x, x_sample), 0, True))\n",
    "    bh_adder = tf.multiply(lr/size_bt, tf.reduce_sum(tf.subtract(h, h_sample), 0, True))\n",
    "    updt = [W.assign_add(W_adder), bv.assign_add(bv_adder), bh.assign_add(bh_adder)]\n",
    "    \n",
    "def save_samples(sample):\n",
    "    print('OUTPUT: ')\n",
    "    print(sample.shape)\n",
    "    print(sample[0].shape)\n",
    "    for i in range(sample.shape[0]):\n",
    "        if any(sample[i,:]):\n",
    "            S = np.reshape(sample[i,:], (num_timesteps, 2*note_range))\n",
    "            noteStateMatrixToMidi(S, \"../output/{}_generated_chord_{}\".format(num_epochs, i))\n",
    "    \n",
    "def main():\n",
    "    from datetime import datetime\n",
    "\n",
    "    def sample(probs):\n",
    "        return tf.floor(probs + tf.random_uniform(tf.shape(probs), 0, 1))\n",
    "\n",
    "    songs = get_songs()\n",
    "    print(\"songs count\", len(songs))\n",
    "    songs  = [np.array(s) for s in songs]\n",
    "\n",
    "    x_sample = generate_x_sample(1) \n",
    "    h = sample(tf.sigmoid(tf.matmul(x, W) + bh)) \n",
    "    h_sample = sample(tf.sigmoid(tf.matmul(x_sample, W) + bh)) \n",
    "\n",
    "    size_bt = tf.cast(tf.shape(x)[0], tf.float32)\n",
    "    W_adder  = tf.multiply(lr/size_bt, tf.subtract(tf.matmul(tf.transpose(x), h), tf.matmul(tf.transpose(x_sample), h_sample)))\n",
    "    bv_adder = tf.multiply(lr/size_bt, tf.reduce_sum(tf.subtract(x, x_sample), 0, True))\n",
    "    bh_adder = tf.multiply(lr/size_bt, tf.reduce_sum(tf.subtract(h, h_sample), 0, True))\n",
    "    updt = [W.assign_add(W_adder), bv.assign_add(bv_adder), bh.assign_add(bh_adder)]\n",
    "    \n",
    "    start = datetime.now()\n",
    "\n",
    "    with tf.Session() as session:\n",
    "\n",
    "        init = tf.initialize_all_variables()\n",
    "        session.run(init)\n",
    "\n",
    "        epoch_index = 0\n",
    "        for epoch in tqdm(range(num_epochs)):\n",
    "            epoch_index += 1\n",
    "\n",
    "            for song in songs:\n",
    "                song = np.array(song)\n",
    "                ind = int(np.floor(song.shape[0]/num_timesteps)*num_timesteps)\n",
    "                song = song[:ind]\n",
    "                song = np.reshape(\n",
    "                    song,\n",
    "                    list(map(int,[song.shape[0]/num_timesteps, song.shape[1]*num_timesteps]))\n",
    "                )\n",
    "                print(song.shape)\n",
    "                print(song[0:batch_size].shape)\n",
    "                for i in range(1, len(song), batch_size): \n",
    "                    trainX = song[i:i+batch_size]\n",
    "                    session.run(\n",
    "                        updt,\n",
    "                        feed_dict={x: trainX}\n",
    "                    )\n",
    "\n",
    "\n",
    "\n",
    "            if epoch_index % 100 == 0:\n",
    "                print('epoch: {}'.format(epoch_index))\n",
    "\n",
    "        end = datetime.now()\n",
    "        print('time: ', end - start)\n",
    "\n",
    "        sample = generate_x_sample(1).eval(session=session, feed_dict={x: np.zeros((10, n_visible))})\n",
    "\n",
    "        save_samples(sample)\n",
    "\n",
    "main()"
   ]
  },
  {
   "cell_type": "code",
   "execution_count": null,
   "metadata": {},
   "outputs": [],
   "source": []
  },
  {
   "cell_type": "code",
   "execution_count": null,
   "metadata": {},
   "outputs": [],
   "source": []
  },
  {
   "cell_type": "code",
   "execution_count": null,
   "metadata": {},
   "outputs": [],
   "source": []
  }
 ],
 "metadata": {
  "kernelspec": {
   "display_name": "Python 3",
   "language": "python",
   "name": "python3"
  },
  "language_info": {
   "codemirror_mode": {
    "name": "ipython",
    "version": 3
   },
   "file_extension": ".py",
   "mimetype": "text/x-python",
   "name": "python",
   "nbconvert_exporter": "python",
   "pygments_lexer": "ipython3",
   "version": "3.5.2"
  }
 },
 "nbformat": 4,
 "nbformat_minor": 2
}
